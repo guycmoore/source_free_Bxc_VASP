{
 "cells": [
  {
   "cell_type": "markdown",
   "id": "95f725a3-9bad-446b-88bc-835926b2afed",
   "metadata": {},
   "source": [
    "# $\\vec{B}_{xc}$ field visualization"
   ]
  },
  {
   "cell_type": "code",
   "execution_count": 1,
   "id": "73d07101-c211-4c41-a6ec-c4f82cc762ca",
   "metadata": {},
   "outputs": [],
   "source": [
    "import os\n",
    "import plotly\n",
    "from visualize_helper_functions import visualize_voldata"
   ]
  },
  {
   "cell_type": "code",
   "execution_count": 2,
   "id": "a27ad9bf-17e1-48a5-bf7b-39ae2e36e757",
   "metadata": {},
   "outputs": [],
   "source": [
    "dir_name = \"./example_files/Mn3ZnN/\""
   ]
  },
  {
   "cell_type": "code",
   "execution_count": 3,
   "id": "9f69bd62-3e10-414b-82e3-f339e266e2b6",
   "metadata": {},
   "outputs": [
    {
     "name": "stdout",
     "output_type": "stream",
     "text": [
      "Dimensions: (30, 30, 30) 30\n",
      "Norm =  141.7348076555449\n",
      "Integral (of sorts) x,y,z components = -0.026466 -0.027705 -0.027500\n",
      "Dimensions: (30, 30, 30) 30\n",
      "Norm =  1.9448984833131209\n",
      "Integral (of sorts) x,y,z components = 0.000959 0.001002 0.001001\n",
      "Stream dimensions: [5, 5, 5] 5\n"
     ]
    }
   ],
   "source": [
    "filename_a = os.path.join(dir_name, \"CHGCAR.gz\")\n",
    "filename_b = os.path.join(dir_name, \"XCPOT.gz\")\n",
    "\n",
    "fig, tau_xc = visualize_voldata(\n",
    "    filename_a, filename_b, \n",
    "    coarseness=2, stream_coarseness=6,\n",
    "    compute_torque=False,\n",
    ")"
   ]
  },
  {
   "cell_type": "code",
   "execution_count": 4,
   "id": "52da736e-107a-44ce-bb72-d5cb95d4388b",
   "metadata": {},
   "outputs": [],
   "source": [
    "# fig.show()"
   ]
  },
  {
   "cell_type": "code",
   "execution_count": 5,
   "id": "6dc98b00-6d3d-44d5-8704-028cf980bbef",
   "metadata": {},
   "outputs": [],
   "source": [
    "formula = \"Mn3ZnN\"\n",
    "fname = formula+\"_source_free\"\n",
    "\n",
    "fname_image = fname+\".pdf\"\n",
    "plotly.io.write_image(fig, fname_image, format='pdf', scale=2.0)"
   ]
  }
 ],
 "metadata": {
  "kernelspec": {
   "display_name": "cms_3.7",
   "language": "python",
   "name": "cms_3.7"
  },
  "language_info": {
   "codemirror_mode": {
    "name": "ipython",
    "version": 3
   },
   "file_extension": ".py",
   "mimetype": "text/x-python",
   "name": "python",
   "nbconvert_exporter": "python",
   "pygments_lexer": "ipython3",
   "version": "3.7.7"
  },
  "widgets": {
   "application/vnd.jupyter.widget-state+json": {
    "state": {},
    "version_major": 2,
    "version_minor": 0
   }
  }
 },
 "nbformat": 4,
 "nbformat_minor": 5
}
